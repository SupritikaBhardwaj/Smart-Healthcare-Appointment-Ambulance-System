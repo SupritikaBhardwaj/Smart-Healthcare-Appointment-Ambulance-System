{
 "cells": [
  {
   "cell_type": "code",
   "execution_count": 1,
   "id": "63de8c56-4312-458b-b2a0-187665845cfe",
   "metadata": {},
   "outputs": [],
   "source": [
    "import joblib\n",
    "import numpy as np\n",
    "import os"
   ]
  },
  {
   "cell_type": "code",
   "execution_count": 2,
   "id": "3261ebde-6be5-4591-804c-a6c8460df87b",
   "metadata": {},
   "outputs": [
    {
     "name": "stdout",
     "output_type": "stream",
     "text": [
      "Predicted Emergency Level: 3\n"
     ]
    },
    {
     "name": "stderr",
     "output_type": "stream",
     "text": [
      "C:\\Users\\supri\\anaconda3\\Lib\\site-packages\\sklearn\\base.py:493: UserWarning: X does not have valid feature names, but RandomForestClassifier was fitted with feature names\n",
      "  warnings.warn(\n"
     ]
    }
   ],
   "source": [
    "# Load the saved model\n",
    "model_path = os.path.join(\"model\", \"triage_model.pkl\")\n",
    "model = joblib.load(model_path)\n",
    "\n",
    "def predict_triage_level(symptoms_list):\n",
    "    \n",
    "    input_data = np.array(symptoms_list).reshape(1, -1)\n",
    "    prediction = model.predict(input_data)[0]\n",
    "    return int(prediction)\n",
    "\n",
    "# Test the function\n",
    "if __name__ == \"__main__\":\n",
    "    # Sample patient symptoms\n",
    "    sample = [1, 8, 1, 0, 140]\n",
    "    level = predict_triage_level(sample)\n",
    "    print(\"Predicted Emergency Level:\", level)\n"
   ]
  },
  {
   "cell_type": "code",
   "execution_count": null,
   "id": "1bd0ef3b-eb51-4c74-ac71-c8f295187b85",
   "metadata": {},
   "outputs": [],
   "source": []
  }
 ],
 "metadata": {
  "kernelspec": {
   "display_name": "Python 3 (ipykernel)",
   "language": "python",
   "name": "python3"
  },
  "language_info": {
   "codemirror_mode": {
    "name": "ipython",
    "version": 3
   },
   "file_extension": ".py",
   "mimetype": "text/x-python",
   "name": "python",
   "nbconvert_exporter": "python",
   "pygments_lexer": "ipython3",
   "version": "3.12.4"
  }
 },
 "nbformat": 4,
 "nbformat_minor": 5
}
